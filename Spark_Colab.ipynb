{
  "nbformat": 4,
  "nbformat_minor": 0,
  "metadata": {
    "colab": {
      "name": "aegis.ipynb",
      "provenance": [],
      "collapsed_sections": []
    },
    "kernelspec": {
      "name": "python3",
      "display_name": "Python 3"
    }
  },
  "cells": [
    {
      "cell_type": "code",
      "metadata": {
        "id": "Je3DAwUsk3hm",
        "colab_type": "code",
        "colab": {
          "base_uri": "https://localhost:8080/",
          "height": 1000
        },
        "outputId": "9911f651-265d-4627-f95d-f80bb2146127"
      },
      "source": [
        "!apt-get install openjdk-8-jdk"
      ],
      "execution_count": 1,
      "outputs": [
        {
          "output_type": "stream",
          "text": [
            "Reading package lists... Done\n",
            "Building dependency tree       \n",
            "Reading state information... Done\n",
            "The following package was automatically installed and is no longer required:\n",
            "  libnvidia-common-440\n",
            "Use 'apt autoremove' to remove it.\n",
            "The following additional packages will be installed:\n",
            "  fonts-dejavu-core fonts-dejavu-extra libatk-wrapper-java\n",
            "  libatk-wrapper-java-jni libxxf86dga1 openjdk-8-jdk-headless openjdk-8-jre\n",
            "  openjdk-8-jre-headless x11-utils\n",
            "Suggested packages:\n",
            "  openjdk-8-demo openjdk-8-source visualvm icedtea-8-plugin libnss-mdns\n",
            "  fonts-ipafont-gothic fonts-ipafont-mincho fonts-wqy-microhei\n",
            "  fonts-wqy-zenhei fonts-indic mesa-utils\n",
            "The following NEW packages will be installed:\n",
            "  fonts-dejavu-core fonts-dejavu-extra libatk-wrapper-java\n",
            "  libatk-wrapper-java-jni libxxf86dga1 openjdk-8-jdk openjdk-8-jdk-headless\n",
            "  openjdk-8-jre openjdk-8-jre-headless x11-utils\n",
            "0 upgraded, 10 newly installed, 0 to remove and 39 not upgraded.\n",
            "Need to get 40.7 MB of archives.\n",
            "After this operation, 153 MB of additional disk space will be used.\n",
            "Get:1 http://archive.ubuntu.com/ubuntu bionic/main amd64 libxxf86dga1 amd64 2:1.1.4-1 [13.7 kB]\n",
            "Get:2 http://archive.ubuntu.com/ubuntu bionic/main amd64 fonts-dejavu-core all 2.37-1 [1,041 kB]\n",
            "Get:3 http://archive.ubuntu.com/ubuntu bionic/main amd64 fonts-dejavu-extra all 2.37-1 [1,953 kB]\n",
            "Get:4 http://archive.ubuntu.com/ubuntu bionic/main amd64 x11-utils amd64 7.7+3build1 [196 kB]\n",
            "Get:5 http://archive.ubuntu.com/ubuntu bionic/main amd64 libatk-wrapper-java all 0.33.3-20ubuntu0.1 [34.7 kB]\n",
            "Get:6 http://archive.ubuntu.com/ubuntu bionic/main amd64 libatk-wrapper-java-jni amd64 0.33.3-20ubuntu0.1 [28.3 kB]\n",
            "Get:7 http://archive.ubuntu.com/ubuntu bionic-updates/universe amd64 openjdk-8-jre-headless amd64 8u265-b01-0ubuntu2~18.04 [27.5 MB]\n",
            "Get:8 http://archive.ubuntu.com/ubuntu bionic-updates/universe amd64 openjdk-8-jre amd64 8u265-b01-0ubuntu2~18.04 [69.6 kB]\n",
            "Get:9 http://archive.ubuntu.com/ubuntu bionic-updates/universe amd64 openjdk-8-jdk-headless amd64 8u265-b01-0ubuntu2~18.04 [8,262 kB]\n",
            "Get:10 http://archive.ubuntu.com/ubuntu bionic-updates/universe amd64 openjdk-8-jdk amd64 8u265-b01-0ubuntu2~18.04 [1,610 kB]\n",
            "Fetched 40.7 MB in 3s (12.8 MB/s)\n",
            "Selecting previously unselected package libxxf86dga1:amd64.\n",
            "(Reading database ... 144579 files and directories currently installed.)\n",
            "Preparing to unpack .../0-libxxf86dga1_2%3a1.1.4-1_amd64.deb ...\n",
            "Unpacking libxxf86dga1:amd64 (2:1.1.4-1) ...\n",
            "Selecting previously unselected package fonts-dejavu-core.\n",
            "Preparing to unpack .../1-fonts-dejavu-core_2.37-1_all.deb ...\n",
            "Unpacking fonts-dejavu-core (2.37-1) ...\n",
            "Selecting previously unselected package fonts-dejavu-extra.\n",
            "Preparing to unpack .../2-fonts-dejavu-extra_2.37-1_all.deb ...\n",
            "Unpacking fonts-dejavu-extra (2.37-1) ...\n",
            "Selecting previously unselected package x11-utils.\n",
            "Preparing to unpack .../3-x11-utils_7.7+3build1_amd64.deb ...\n",
            "Unpacking x11-utils (7.7+3build1) ...\n",
            "Selecting previously unselected package libatk-wrapper-java.\n",
            "Preparing to unpack .../4-libatk-wrapper-java_0.33.3-20ubuntu0.1_all.deb ...\n",
            "Unpacking libatk-wrapper-java (0.33.3-20ubuntu0.1) ...\n",
            "Selecting previously unselected package libatk-wrapper-java-jni:amd64.\n",
            "Preparing to unpack .../5-libatk-wrapper-java-jni_0.33.3-20ubuntu0.1_amd64.deb ...\n",
            "Unpacking libatk-wrapper-java-jni:amd64 (0.33.3-20ubuntu0.1) ...\n",
            "Selecting previously unselected package openjdk-8-jre-headless:amd64.\n",
            "Preparing to unpack .../6-openjdk-8-jre-headless_8u265-b01-0ubuntu2~18.04_amd64.deb ...\n",
            "Unpacking openjdk-8-jre-headless:amd64 (8u265-b01-0ubuntu2~18.04) ...\n",
            "Selecting previously unselected package openjdk-8-jre:amd64.\n",
            "Preparing to unpack .../7-openjdk-8-jre_8u265-b01-0ubuntu2~18.04_amd64.deb ...\n",
            "Unpacking openjdk-8-jre:amd64 (8u265-b01-0ubuntu2~18.04) ...\n",
            "Selecting previously unselected package openjdk-8-jdk-headless:amd64.\n",
            "Preparing to unpack .../8-openjdk-8-jdk-headless_8u265-b01-0ubuntu2~18.04_amd64.deb ...\n",
            "Unpacking openjdk-8-jdk-headless:amd64 (8u265-b01-0ubuntu2~18.04) ...\n",
            "Selecting previously unselected package openjdk-8-jdk:amd64.\n",
            "Preparing to unpack .../9-openjdk-8-jdk_8u265-b01-0ubuntu2~18.04_amd64.deb ...\n",
            "Unpacking openjdk-8-jdk:amd64 (8u265-b01-0ubuntu2~18.04) ...\n",
            "Setting up fonts-dejavu-core (2.37-1) ...\n",
            "Setting up libxxf86dga1:amd64 (2:1.1.4-1) ...\n",
            "Setting up fonts-dejavu-extra (2.37-1) ...\n",
            "Setting up openjdk-8-jre-headless:amd64 (8u265-b01-0ubuntu2~18.04) ...\n",
            "update-alternatives: using /usr/lib/jvm/java-8-openjdk-amd64/jre/bin/orbd to provide /usr/bin/orbd (orbd) in auto mode\n",
            "update-alternatives: using /usr/lib/jvm/java-8-openjdk-amd64/jre/bin/servertool to provide /usr/bin/servertool (servertool) in auto mode\n",
            "update-alternatives: using /usr/lib/jvm/java-8-openjdk-amd64/jre/bin/tnameserv to provide /usr/bin/tnameserv (tnameserv) in auto mode\n",
            "Setting up openjdk-8-jdk-headless:amd64 (8u265-b01-0ubuntu2~18.04) ...\n",
            "update-alternatives: using /usr/lib/jvm/java-8-openjdk-amd64/bin/idlj to provide /usr/bin/idlj (idlj) in auto mode\n",
            "update-alternatives: using /usr/lib/jvm/java-8-openjdk-amd64/bin/wsimport to provide /usr/bin/wsimport (wsimport) in auto mode\n",
            "update-alternatives: using /usr/lib/jvm/java-8-openjdk-amd64/bin/jsadebugd to provide /usr/bin/jsadebugd (jsadebugd) in auto mode\n",
            "update-alternatives: using /usr/lib/jvm/java-8-openjdk-amd64/bin/native2ascii to provide /usr/bin/native2ascii (native2ascii) in auto mode\n",
            "update-alternatives: using /usr/lib/jvm/java-8-openjdk-amd64/bin/javah to provide /usr/bin/javah (javah) in auto mode\n",
            "update-alternatives: using /usr/lib/jvm/java-8-openjdk-amd64/bin/clhsdb to provide /usr/bin/clhsdb (clhsdb) in auto mode\n",
            "update-alternatives: using /usr/lib/jvm/java-8-openjdk-amd64/bin/jhat to provide /usr/bin/jhat (jhat) in auto mode\n",
            "update-alternatives: using /usr/lib/jvm/java-8-openjdk-amd64/bin/extcheck to provide /usr/bin/extcheck (extcheck) in auto mode\n",
            "update-alternatives: using /usr/lib/jvm/java-8-openjdk-amd64/bin/hsdb to provide /usr/bin/hsdb (hsdb) in auto mode\n",
            "update-alternatives: using /usr/lib/jvm/java-8-openjdk-amd64/bin/schemagen to provide /usr/bin/schemagen (schemagen) in auto mode\n",
            "update-alternatives: using /usr/lib/jvm/java-8-openjdk-amd64/bin/xjc to provide /usr/bin/xjc (xjc) in auto mode\n",
            "update-alternatives: using /usr/lib/jvm/java-8-openjdk-amd64/bin/wsgen to provide /usr/bin/wsgen (wsgen) in auto mode\n",
            "Setting up x11-utils (7.7+3build1) ...\n",
            "Setting up libatk-wrapper-java (0.33.3-20ubuntu0.1) ...\n",
            "Setting up libatk-wrapper-java-jni:amd64 (0.33.3-20ubuntu0.1) ...\n",
            "Setting up openjdk-8-jre:amd64 (8u265-b01-0ubuntu2~18.04) ...\n",
            "update-alternatives: using /usr/lib/jvm/java-8-openjdk-amd64/jre/bin/policytool to provide /usr/bin/policytool (policytool) in auto mode\n",
            "Setting up openjdk-8-jdk:amd64 (8u265-b01-0ubuntu2~18.04) ...\n",
            "update-alternatives: using /usr/lib/jvm/java-8-openjdk-amd64/bin/appletviewer to provide /usr/bin/appletviewer (appletviewer) in auto mode\n",
            "update-alternatives: using /usr/lib/jvm/java-8-openjdk-amd64/bin/jconsole to provide /usr/bin/jconsole (jconsole) in auto mode\n",
            "Processing triggers for man-db (2.8.3-2ubuntu0.1) ...\n",
            "Processing triggers for hicolor-icon-theme (0.17-2) ...\n",
            "Processing triggers for fontconfig (2.12.6-0ubuntu2) ...\n",
            "Processing triggers for mime-support (3.60ubuntu1) ...\n",
            "Processing triggers for libc-bin (2.27-3ubuntu1) ...\n",
            "/sbin/ldconfig.real: /usr/local/lib/python3.6/dist-packages/ideep4py/lib/libmkldnn.so.0 is not a symbolic link\n",
            "\n"
          ],
          "name": "stdout"
        }
      ]
    },
    {
      "cell_type": "code",
      "metadata": {
        "id": "hEUZsSJ3kvYH",
        "colab_type": "code",
        "colab": {}
      },
      "source": [
        "import os"
      ],
      "execution_count": 2,
      "outputs": []
    },
    {
      "cell_type": "code",
      "metadata": {
        "id": "fiL4NyeulZ52",
        "colab_type": "code",
        "colab": {}
      },
      "source": [
        "os.environ[\"JAVA_HOME\"]=\"/usr/lib/jvm/java-8-openjdk-amd64\""
      ],
      "execution_count": 3,
      "outputs": []
    },
    {
      "cell_type": "code",
      "metadata": {
        "id": "kyZAcQWCviG3",
        "colab_type": "code",
        "colab": {
          "base_uri": "https://localhost:8080/",
          "height": 34
        },
        "outputId": "666b38b6-2ff5-4b4a-c583-a67152d703fb"
      },
      "source": [
        "!pwd"
      ],
      "execution_count": 4,
      "outputs": [
        {
          "output_type": "stream",
          "text": [
            "/content\n"
          ],
          "name": "stdout"
        }
      ]
    },
    {
      "cell_type": "code",
      "metadata": {
        "id": "7zfvvNxyl_5d",
        "colab_type": "code",
        "colab": {
          "base_uri": "https://localhost:8080/",
          "height": 34
        },
        "outputId": "9a785a62-be55-40bf-dfd9-5fe48e264f8f"
      },
      "source": [
        "!echo $JAVA_HOME"
      ],
      "execution_count": 5,
      "outputs": [
        {
          "output_type": "stream",
          "text": [
            "/usr/lib/jvm/java-8-openjdk-amd64\n"
          ],
          "name": "stdout"
        }
      ]
    },
    {
      "cell_type": "code",
      "metadata": {
        "id": "Iy1WOj9or-g6",
        "colab_type": "code",
        "colab": {
          "base_uri": "https://localhost:8080/",
          "height": 235
        },
        "outputId": "654023d2-c9c1-4aeb-fd1b-7b72aefcd82c"
      },
      "source": [
        "!pip install pyspark==2.4.4"
      ],
      "execution_count": 6,
      "outputs": [
        {
          "output_type": "stream",
          "text": [
            "Collecting pyspark==2.4.4\n",
            "\u001b[?25l  Downloading https://files.pythonhosted.org/packages/87/21/f05c186f4ddb01d15d0ddc36ef4b7e3cedbeb6412274a41f26b55a650ee5/pyspark-2.4.4.tar.gz (215.7MB)\n",
            "\u001b[K     |████████████████████████████████| 215.7MB 61kB/s \n",
            "\u001b[?25hCollecting py4j==0.10.7\n",
            "\u001b[?25l  Downloading https://files.pythonhosted.org/packages/e3/53/c737818eb9a7dc32a7cd4f1396e787bd94200c3997c72c1dbe028587bd76/py4j-0.10.7-py2.py3-none-any.whl (197kB)\n",
            "\u001b[K     |████████████████████████████████| 204kB 44.1MB/s \n",
            "\u001b[?25hBuilding wheels for collected packages: pyspark\n",
            "  Building wheel for pyspark (setup.py) ... \u001b[?25l\u001b[?25hdone\n",
            "  Created wheel for pyspark: filename=pyspark-2.4.4-py2.py3-none-any.whl size=216130389 sha256=752b919452a887a8827605ab63aa7cda563512f2249548365ea0b0c4320d61d4\n",
            "  Stored in directory: /root/.cache/pip/wheels/ab/09/4d/0d184230058e654eb1b04467dbc1292f00eaa186544604b471\n",
            "Successfully built pyspark\n",
            "Installing collected packages: py4j, pyspark\n",
            "Successfully installed py4j-0.10.7 pyspark-2.4.4\n"
          ],
          "name": "stdout"
        }
      ]
    },
    {
      "cell_type": "markdown",
      "metadata": {
        "id": "xAMQ7JGrsAwf",
        "colab_type": "text"
      },
      "source": [
        "# New Section"
      ]
    },
    {
      "cell_type": "code",
      "metadata": {
        "id": "gJllMZ0rs3-Q",
        "colab_type": "code",
        "colab": {}
      },
      "source": [
        "import pyspark"
      ],
      "execution_count": 7,
      "outputs": []
    },
    {
      "cell_type": "code",
      "metadata": {
        "id": "2n2KqGgps62B",
        "colab_type": "code",
        "colab": {}
      },
      "source": [
        "from pyspark import SparkContext\n",
        "from pyspark.sql import SparkSession"
      ],
      "execution_count": 8,
      "outputs": []
    },
    {
      "cell_type": "code",
      "metadata": {
        "id": "RXx5np3atSwF",
        "colab_type": "code",
        "colab": {}
      },
      "source": [
        "myspark = SparkSession.builder \\\n",
        ".master(\"local[*]\") \\\n",
        ".appName(\"amit\") \\\n",
        ".config(\"spark.executor.memory\", \"6g\") \\\n",
        ".config(\"spark.driver.memory\", \"4g\") \\\n",
        ".getOrCreate()"
      ],
      "execution_count": 13,
      "outputs": []
    },
    {
      "cell_type": "code",
      "metadata": {
        "id": "-J5V6q4wapoB",
        "colab_type": "code",
        "colab": {
          "base_uri": "https://localhost:8080/",
          "height": 34
        },
        "outputId": "67038331-2765-4f49-854d-7e7d94e1c459"
      },
      "source": [
        "!ifconfig"
      ],
      "execution_count": 10,
      "outputs": [
        {
          "output_type": "stream",
          "text": [
            "/bin/bash: ifconfig: command not found\n"
          ],
          "name": "stdout"
        }
      ]
    },
    {
      "cell_type": "code",
      "metadata": {
        "id": "7GMebXdnskho",
        "colab_type": "code",
        "colab": {
          "base_uri": "https://localhost:8080/",
          "height": 34
        },
        "outputId": "8ddd2400-0238-4c88-d552-1dd1e4612707"
      },
      "source": [
        "from google.colab import drive\n",
        "drive.mount('/content/drive')"
      ],
      "execution_count": 15,
      "outputs": [
        {
          "output_type": "stream",
          "text": [
            "Mounted at /content/drive\n"
          ],
          "name": "stdout"
        }
      ]
    },
    {
      "cell_type": "code",
      "metadata": {
        "id": "9iWgWKYZuEsf",
        "colab_type": "code",
        "colab": {}
      },
      "source": [
        "df = myspark.read.csv(\"/content/sample_data/california_housing_train.csv\",header=True)"
      ],
      "execution_count": 16,
      "outputs": []
    },
    {
      "cell_type": "code",
      "metadata": {
        "id": "kkHjDTTuu_Ni",
        "colab_type": "code",
        "colab": {
          "base_uri": "https://localhost:8080/",
          "height": 202
        },
        "outputId": "de9c2257-f99d-46f9-c879-a8ca5c34a0bb"
      },
      "source": [
        "df.show(5,False)"
      ],
      "execution_count": 17,
      "outputs": [
        {
          "output_type": "stream",
          "text": [
            "+-----------+---------+------------------+-----------+--------------+-----------+----------+-------------+------------------+\n",
            "|longitude  |latitude |housing_median_age|total_rooms|total_bedrooms|population |households|median_income|median_house_value|\n",
            "+-----------+---------+------------------+-----------+--------------+-----------+----------+-------------+------------------+\n",
            "|-114.310000|34.190000|15.000000         |5612.000000|1283.000000   |1015.000000|472.000000|1.493600     |66900.000000      |\n",
            "|-114.470000|34.400000|19.000000         |7650.000000|1901.000000   |1129.000000|463.000000|1.820000     |80100.000000      |\n",
            "|-114.560000|33.690000|17.000000         |720.000000 |174.000000    |333.000000 |117.000000|1.650900     |85700.000000      |\n",
            "|-114.570000|33.640000|14.000000         |1501.000000|337.000000    |515.000000 |226.000000|3.191700     |73400.000000      |\n",
            "|-114.570000|33.570000|20.000000         |1454.000000|326.000000    |624.000000 |262.000000|1.925000     |65500.000000      |\n",
            "+-----------+---------+------------------+-----------+--------------+-----------+----------+-------------+------------------+\n",
            "only showing top 5 rows\n",
            "\n"
          ],
          "name": "stdout"
        }
      ]
    },
    {
      "cell_type": "code",
      "metadata": {
        "id": "FoiCIRmmcSja",
        "colab_type": "code",
        "colab": {
          "base_uri": "https://localhost:8080/",
          "height": 118
        },
        "outputId": "4aac9c52-3f6a-40d3-fbd0-3f14fc47226d"
      },
      "source": [
        "df.createOrReplaceTempView(\"parquetFile\")\n",
        "samplecsv = myspark.sql(\"SELECT count(*) FROM parquetFile\")\n",
        "samplecsv.show()"
      ],
      "execution_count": 18,
      "outputs": [
        {
          "output_type": "stream",
          "text": [
            "+--------+\n",
            "|count(1)|\n",
            "+--------+\n",
            "|   17000|\n",
            "+--------+\n",
            "\n"
          ],
          "name": "stdout"
        }
      ]
    },
    {
      "cell_type": "code",
      "metadata": {
        "id": "Y-5-HDSWvCIc",
        "colab_type": "code",
        "colab": {
          "base_uri": "https://localhost:8080/",
          "height": 34
        },
        "outputId": "0ec4d481-c260-4161-b789-06210c0fd1de"
      },
      "source": [
        "df.count()"
      ],
      "execution_count": 20,
      "outputs": [
        {
          "output_type": "execute_result",
          "data": {
            "text/plain": [
              "17000"
            ]
          },
          "metadata": {
            "tags": []
          },
          "execution_count": 20
        }
      ]
    },
    {
      "cell_type": "code",
      "metadata": {
        "id": "R2yXbEZEvVf5",
        "colab_type": "code",
        "colab": {}
      },
      "source": [
        ""
      ],
      "execution_count": null,
      "outputs": []
    },
    {
      "cell_type": "code",
      "metadata": {
        "id": "eQpttZO3H96v",
        "colab_type": "code",
        "colab": {}
      },
      "source": [
        "from pyspark.sql.types import *\n",
        "from pyspark.sql.functions import *"
      ],
      "execution_count": 21,
      "outputs": []
    },
    {
      "cell_type": "code",
      "metadata": {
        "id": "XALI7HFWHzn0",
        "colab_type": "code",
        "colab": {}
      },
      "source": [
        "table_schema = StructType([StructField('status', StringType(), True),\n",
        "                     StructField('txn_id', StringType(), True),\n",
        "                     StructField('trn_date',TimestampType(), True),\n",
        "                     StructField('fin_nfin', StringType(), True),\n",
        "                     StructField('proc_code', StringType(), True),\n",
        "                     StructField('resp_cpde', StringType(), True),\n",
        "                     StructField('state', StringType(), True),\n",
        "                     StructField('mob_no', LongType(), True)])"
      ],
      "execution_count": 22,
      "outputs": []
    },
    {
      "cell_type": "code",
      "metadata": {
        "id": "U9JeG3bZvWO1",
        "colab_type": "code",
        "colab": {}
      },
      "source": [
        "df1 = myspark.read.csv(\"/content/drive/My Drive/DATA SCIENCE/Data Science Resources/hive_lecture_new/mb_out_large.csv\",schema=table_schema,sep=\",\", header=None)\n",
        "# df1 = myspark.read.csv(\"/content/drive/My Drive/DATA SCIENCE/Data Science Resources/hive_lecture_new/mb_out_large.csv\")"
      ],
      "execution_count": 28,
      "outputs": []
    },
    {
      "cell_type": "code",
      "metadata": {
        "id": "Y6QI2wWmEA67",
        "colab_type": "code",
        "colab": {
          "base_uri": "https://localhost:8080/",
          "height": 134
        },
        "outputId": "d0cc0742-58f9-433c-9e93-eb91f5e42ef2"
      },
      "source": [
        "df1.show(1)"
      ],
      "execution_count": 29,
      "outputs": [
        {
          "output_type": "stream",
          "text": [
            "+---------+------------------+-------------------+--------------+--------------+---------+-----------+----------+\n",
            "|   status|            txn_id|           trn_date|      fin_nfin|     proc_code|resp_cpde|      state|    mob_no|\n",
            "+---------+------------------+-------------------+--------------+--------------+---------+-----------+----------+\n",
            "|COMPLETED|INBbxkrb7677446468|2019-05-26 20:42:26|Non-Financials|balanceInquiry|       00|Maharashtra|9945539882|\n",
            "+---------+------------------+-------------------+--------------+--------------+---------+-----------+----------+\n",
            "only showing top 1 row\n",
            "\n"
          ],
          "name": "stdout"
        }
      ]
    },
    {
      "cell_type": "code",
      "metadata": {
        "id": "ypicR58IWN3V",
        "colab_type": "code",
        "colab": {
          "base_uri": "https://localhost:8080/",
          "height": 185
        },
        "outputId": "9c157342-4fe5-4fd5-c998-03e4e359a287"
      },
      "source": [
        "df1.printSchema()"
      ],
      "execution_count": 30,
      "outputs": [
        {
          "output_type": "stream",
          "text": [
            "root\n",
            " |-- status: string (nullable = true)\n",
            " |-- txn_id: string (nullable = true)\n",
            " |-- trn_date: timestamp (nullable = true)\n",
            " |-- fin_nfin: string (nullable = true)\n",
            " |-- proc_code: string (nullable = true)\n",
            " |-- resp_cpde: string (nullable = true)\n",
            " |-- state: string (nullable = true)\n",
            " |-- mob_no: long (nullable = true)\n",
            "\n"
          ],
          "name": "stdout"
        }
      ]
    },
    {
      "cell_type": "code",
      "metadata": {
        "id": "PhDat94cECr5",
        "colab_type": "code",
        "colab": {
          "base_uri": "https://localhost:8080/",
          "height": 222
        },
        "outputId": "08bf1516-fad6-464d-da9d-80aa3ad5cfcf"
      },
      "source": [
        "df1.createOrReplaceTempView(\"csvfile\")\n",
        "bankdata = myspark.sql(\"SELECT *,cast(cast(trn_date as DATE) as STRING) as trn_date_part FROM csvfile\")\n",
        "bankdata.show(5)"
      ],
      "execution_count": 32,
      "outputs": [
        {
          "output_type": "stream",
          "text": [
            "+---------+------------------+-------------------+--------------+--------------+---------+-----------+----------+-------------+\n",
            "|   status|            txn_id|           trn_date|      fin_nfin|     proc_code|resp_cpde|      state|    mob_no|trn_date_part|\n",
            "+---------+------------------+-------------------+--------------+--------------+---------+-----------+----------+-------------+\n",
            "|COMPLETED|INBbxkrb7677446468|2019-05-26 20:42:26|Non-Financials|balanceInquiry|       00|Maharashtra|9945539882|   2019-05-26|\n",
            "|COMPLETED|INBpmcbm7874430557|2019-05-17 05:30:54|    Financials|  fundTransfer|       00|Maharashtra|9991940167|   2019-05-17|\n",
            "|COMPLETED|INBycnbh3838184217|2019-05-19 06:52:02|    Financials|  fundTransfer|       00|Maharashtra|9998664135|   2019-05-19|\n",
            "|   FAILED|INBlevml0264925092|2019-05-18 05:53:07|    Financials|  fundTransfer|       96|Maharashtra|9997491417|   2019-05-18|\n",
            "|COMPLETED|INBkovsp0528222721|2019-05-27 19:16:44|Non-Financials|balanceInquiry|       00| Tamil Nadu|9990054108|   2019-05-27|\n",
            "+---------+------------------+-------------------+--------------+--------------+---------+-----------+----------+-------------+\n",
            "only showing top 5 rows\n",
            "\n"
          ],
          "name": "stdout"
        }
      ]
    },
    {
      "cell_type": "code",
      "metadata": {
        "id": "jReemmKvhDdz",
        "colab_type": "code",
        "colab": {
          "base_uri": "https://localhost:8080/",
          "height": 202
        },
        "outputId": "216c7e39-ca06-4549-f168-d9b32393164f"
      },
      "source": [
        "bankdata.printSchema()"
      ],
      "execution_count": 33,
      "outputs": [
        {
          "output_type": "stream",
          "text": [
            "root\n",
            " |-- status: string (nullable = true)\n",
            " |-- txn_id: string (nullable = true)\n",
            " |-- trn_date: timestamp (nullable = true)\n",
            " |-- fin_nfin: string (nullable = true)\n",
            " |-- proc_code: string (nullable = true)\n",
            " |-- resp_cpde: string (nullable = true)\n",
            " |-- state: string (nullable = true)\n",
            " |-- mob_no: long (nullable = true)\n",
            " |-- trn_date_part: string (nullable = true)\n",
            "\n"
          ],
          "name": "stdout"
        }
      ]
    },
    {
      "cell_type": "code",
      "metadata": {
        "id": "NpNzY3GLFDAm",
        "colab_type": "code",
        "colab": {}
      },
      "source": [
        "#bankdata.write.mode(\"overwrite\").parquet(\"/content/amit_parquet1/out\")\n",
        "bankdata.write.mode(\"overwrite\").partitionBy(\"trn_date_part\").parquet(\"/content/amit_parquet1/out1\")"
      ],
      "execution_count": 35,
      "outputs": []
    },
    {
      "cell_type": "code",
      "metadata": {
        "id": "SL23Kgb4ie7_",
        "colab_type": "code",
        "colab": {}
      },
      "source": [
        "bankdata2 = bankdata.repartition(1)"
      ],
      "execution_count": 36,
      "outputs": []
    },
    {
      "cell_type": "code",
      "metadata": {
        "id": "OKrp3W0VjcTB",
        "colab_type": "code",
        "colab": {}
      },
      "source": [
        "bankdata2.write.mode(\"overwrite\").orc(\"/content/amit_orc\")"
      ],
      "execution_count": 37,
      "outputs": []
    },
    {
      "cell_type": "code",
      "metadata": {
        "id": "5PKDQI8IduVy",
        "colab_type": "code",
        "colab": {}
      },
      "source": [
        "parquetFile = myspark.read.parquet(\"/content/amit_parquet1/out\")"
      ],
      "execution_count": 42,
      "outputs": []
    },
    {
      "cell_type": "code",
      "metadata": {
        "id": "tXmjTi1UduTV",
        "colab_type": "code",
        "colab": {
          "base_uri": "https://localhost:8080/",
          "height": 474
        },
        "outputId": "6c71b779-8627-4775-de8c-514581387189"
      },
      "source": [
        "parquetFile.show()"
      ],
      "execution_count": 43,
      "outputs": [
        {
          "output_type": "stream",
          "text": [
            "+---------+------------------+-------------------+--------------+-----------------+---------+--------------+----------+-------------+\n",
            "|   status|            txn_id|           trn_date|      fin_nfin|        proc_code|resp_cpde|         state|    mob_no|trn_date_part|\n",
            "+---------+------------------+-------------------+--------------+-----------------+---------+--------------+----------+-------------+\n",
            "|COMPLETED|INBbxkrb7677446468|2019-05-26 20:42:26|Non-Financials|   balanceInquiry|       00|   Maharashtra|9945539882|   2019-05-26|\n",
            "|COMPLETED|INBpmcbm7874430557|2019-05-17 05:30:54|    Financials|     fundTransfer|       00|   Maharashtra|9991940167|   2019-05-17|\n",
            "|COMPLETED|INBycnbh3838184217|2019-05-19 06:52:02|    Financials|     fundTransfer|       00|   Maharashtra|9998664135|   2019-05-19|\n",
            "|   FAILED|INBlevml0264925092|2019-05-18 05:53:07|    Financials|     fundTransfer|       96|   Maharashtra|9997491417|   2019-05-18|\n",
            "|COMPLETED|INBkovsp0528222721|2019-05-27 19:16:44|Non-Financials|   balanceInquiry|       00|    Tamil Nadu|9990054108|   2019-05-27|\n",
            "|COMPLETED|INBelmpy0845924917|2019-05-08 10:28:27|Non-Financials|   balanceInquiry|       00|   Maharashtra|9967286093|   2019-05-08|\n",
            "|COMPLETED|INBtdrut5221005029|2019-05-24 12:58:30|Non-Financials|CHANGE_MPIN_MTPIN|       00|        Kerala|9965205492|   2019-05-24|\n",
            "|COMPLETED|INBgdovs6547070178|2019-05-28 09:29:01|Non-Financials|CHANGE_MPIN_MTPIN|       00|   Maharashtra|9944474766|   2019-05-28|\n",
            "|COMPLETED|INBoialc6841563565|2019-05-03 09:05:30|    Financials|     fundTransfer|       00|     Karnataka|9909313598|   2019-05-03|\n",
            "|COMPLETED|INBqakai6783168890|2019-05-26 17:35:06|    Financials|     fundTransfer|       00|   Maharashtra|9912817454|   2019-05-26|\n",
            "|   FAILED|INBpdybx8044532205|2019-05-26 04:05:31|    Financials|      neftRequest|       96|    Tamil Nadu|9976027893|   2019-05-26|\n",
            "|COMPLETED|INBomzze7600111266|2019-05-13 16:41:28|    Financials|     fundTransfer|       00|    Tamil Nadu|9949757514|   2019-05-13|\n",
            "|COMPLETED|INBnomii0493145305|2019-05-06 07:43:54|Non-Financials|   balanceInquiry|       00|           Goa|9989138977|   2019-05-06|\n",
            "|COMPLETED|INByoptd2087456435|2019-05-19 05:50:06|    Financials|     fundTransfer|       00|   Maharashtra|9935041880|   2019-05-19|\n",
            "|   FAILED|INBcopte9368483615|2019-05-19 03:43:01|Non-Financials|   balanceInquiry|      101|        Kerala|9979324140|   2019-05-19|\n",
            "|COMPLETED|INBisell0458853629|2019-05-12 10:56:07|    Financials|     fundTransfer|       00|    Tamil Nadu|9920214562|   2019-05-12|\n",
            "|COMPLETED|INBktvfv9229756088|2019-05-06 22:04:00|Non-Financials|   balanceInquiry|       00|Madhya Pradesh|9991664370|   2019-05-06|\n",
            "|COMPLETED|INBypikd9676387038|2019-05-16 14:01:53|    Financials|     fundTransfer|       00|Andhra Pradesh|9972557303|   2019-05-16|\n",
            "|COMPLETED|INBeelxf5010595515|2019-05-26 11:48:36|    Financials|GETPAYMENTDETAILS|       00|   Maharashtra|9937263202|   2019-05-26|\n",
            "|COMPLETED|INBiexmj6499909190|2019-05-21 03:51:27|    Financials|     fundTransfer|       00|        Kerala|9974682974|   2019-05-21|\n",
            "+---------+------------------+-------------------+--------------+-----------------+---------+--------------+----------+-------------+\n",
            "only showing top 20 rows\n",
            "\n"
          ],
          "name": "stdout"
        }
      ]
    },
    {
      "cell_type": "code",
      "metadata": {
        "id": "HeBBg52Klff-",
        "colab_type": "code",
        "colab": {
          "base_uri": "https://localhost:8080/",
          "height": 34
        },
        "outputId": "08af491a-533a-4a40-a2f5-0c65ea2c4f00"
      },
      "source": [
        "parquetFile.cache().count()"
      ],
      "execution_count": 44,
      "outputs": [
        {
          "output_type": "execute_result",
          "data": {
            "text/plain": [
              "999999"
            ]
          },
          "metadata": {
            "tags": []
          },
          "execution_count": 44
        }
      ]
    },
    {
      "cell_type": "code",
      "metadata": {
        "id": "3VL5oNHdmFvV",
        "colab_type": "code",
        "colab": {
          "base_uri": "https://localhost:8080/",
          "height": 34
        },
        "outputId": "3cecbfa0-b25b-4e5c-da14-6400fb654a0a"
      },
      "source": [
        "parquetFile.count()"
      ],
      "execution_count": 45,
      "outputs": [
        {
          "output_type": "execute_result",
          "data": {
            "text/plain": [
              "999999"
            ]
          },
          "metadata": {
            "tags": []
          },
          "execution_count": 45
        }
      ]
    },
    {
      "cell_type": "code",
      "metadata": {
        "id": "kxPCuU3jKYB1",
        "colab_type": "code",
        "colab": {
          "base_uri": "https://localhost:8080/",
          "height": 454
        },
        "outputId": "283caa39-8955-49c1-850f-0af07253f1c5"
      },
      "source": [
        "parquetFile.filter((col(\"status\")==\"COMPLETED\") | (col(\"state\")==\"Maharashtra\")).show()"
      ],
      "execution_count": 46,
      "outputs": [
        {
          "output_type": "stream",
          "text": [
            "+---------+------------------+-------------------+--------------+-----------------+---------+--------------+----------+-------------+\n",
            "|   status|            txn_id|           trn_date|      fin_nfin|        proc_code|resp_cpde|         state|    mob_no|trn_date_part|\n",
            "+---------+------------------+-------------------+--------------+-----------------+---------+--------------+----------+-------------+\n",
            "|COMPLETED|INBbxkrb7677446468|2019-05-26 20:42:26|Non-Financials|   balanceInquiry|       00|   Maharashtra|9945539882|   2019-05-26|\n",
            "|COMPLETED|INBpmcbm7874430557|2019-05-17 05:30:54|    Financials|     fundTransfer|       00|   Maharashtra|9991940167|   2019-05-17|\n",
            "|COMPLETED|INBycnbh3838184217|2019-05-19 06:52:02|    Financials|     fundTransfer|       00|   Maharashtra|9998664135|   2019-05-19|\n",
            "|   FAILED|INBlevml0264925092|2019-05-18 05:53:07|    Financials|     fundTransfer|       96|   Maharashtra|9997491417|   2019-05-18|\n",
            "|COMPLETED|INBkovsp0528222721|2019-05-27 19:16:44|Non-Financials|   balanceInquiry|       00|    Tamil Nadu|9990054108|   2019-05-27|\n",
            "|COMPLETED|INBelmpy0845924917|2019-05-08 10:28:27|Non-Financials|   balanceInquiry|       00|   Maharashtra|9967286093|   2019-05-08|\n",
            "|COMPLETED|INBtdrut5221005029|2019-05-24 12:58:30|Non-Financials|CHANGE_MPIN_MTPIN|       00|        Kerala|9965205492|   2019-05-24|\n",
            "|COMPLETED|INBgdovs6547070178|2019-05-28 09:29:01|Non-Financials|CHANGE_MPIN_MTPIN|       00|   Maharashtra|9944474766|   2019-05-28|\n",
            "|COMPLETED|INBoialc6841563565|2019-05-03 09:05:30|    Financials|     fundTransfer|       00|     Karnataka|9909313598|   2019-05-03|\n",
            "|COMPLETED|INBqakai6783168890|2019-05-26 17:35:06|    Financials|     fundTransfer|       00|   Maharashtra|9912817454|   2019-05-26|\n",
            "|COMPLETED|INBomzze7600111266|2019-05-13 16:41:28|    Financials|     fundTransfer|       00|    Tamil Nadu|9949757514|   2019-05-13|\n",
            "|COMPLETED|INBnomii0493145305|2019-05-06 07:43:54|Non-Financials|   balanceInquiry|       00|           Goa|9989138977|   2019-05-06|\n",
            "|COMPLETED|INByoptd2087456435|2019-05-19 05:50:06|    Financials|     fundTransfer|       00|   Maharashtra|9935041880|   2019-05-19|\n",
            "|COMPLETED|INBisell0458853629|2019-05-12 10:56:07|    Financials|     fundTransfer|       00|    Tamil Nadu|9920214562|   2019-05-12|\n",
            "|COMPLETED|INBktvfv9229756088|2019-05-06 22:04:00|Non-Financials|   balanceInquiry|       00|Madhya Pradesh|9991664370|   2019-05-06|\n",
            "|COMPLETED|INBypikd9676387038|2019-05-16 14:01:53|    Financials|     fundTransfer|       00|Andhra Pradesh|9972557303|   2019-05-16|\n",
            "|COMPLETED|INBeelxf5010595515|2019-05-26 11:48:36|    Financials|GETPAYMENTDETAILS|       00|   Maharashtra|9937263202|   2019-05-26|\n",
            "|COMPLETED|INBiexmj6499909190|2019-05-21 03:51:27|    Financials|     fundTransfer|       00|        Kerala|9974682974|   2019-05-21|\n",
            "|COMPLETED|INBcagwv6998493632|2019-05-13 04:35:32|Non-Financials|    chequeInquiry|       00|   Maharashtra|9920431237|   2019-05-13|\n",
            "|COMPLETED|INBwaowl1252383250|2019-05-15 05:06:28|    Financials|     fundTransfer|       00|   Maharashtra|9920047737|   2019-05-15|\n",
            "+---------+------------------+-------------------+--------------+-----------------+---------+--------------+----------+-------------+\n",
            "only showing top 20 rows\n",
            "\n"
          ],
          "name": "stdout"
        }
      ]
    },
    {
      "cell_type": "code",
      "metadata": {
        "id": "O8Kv5y0quP32",
        "colab_type": "code",
        "colab": {
          "base_uri": "https://localhost:8080/",
          "height": 454
        },
        "outputId": "b421c197-72e5-457e-f4a3-354e193a24e2"
      },
      "source": [
        "parquetFile.groupBy([\"state\",\"status\"]).count().collect()"
      ],
      "execution_count": 47,
      "outputs": [
        {
          "output_type": "execute_result",
          "data": {
            "text/plain": [
              "[Row(state='Rajasthan', status='COMPLETED', count=11100),\n",
              " Row(state='Andhra Pradesh', status='FAILED', count=16054),\n",
              " Row(state='Tamil Nadu', status='FAILED', count=19802),\n",
              " Row(state='Maharashtra', status='FAILED', count=100023),\n",
              " Row(state='Maharashtra', status='COMPLETED', count=399703),\n",
              " Row(state='Karnataka', status='COMPLETED', count=64246),\n",
              " Row(state='Goa', status='FAILED', count=10122),\n",
              " Row(state='Madhya Pradesh', status='FAILED', count=4026),\n",
              " Row(state='Karnataka', status='FAILED', count=15836),\n",
              " Row(state='Andhra Pradesh', status='COMPLETED', count=63938),\n",
              " Row(state='Gujarat', status='COMPLETED', count=39928),\n",
              " Row(state='Goa', status='COMPLETED', count=40274),\n",
              " Row(state='Assam', status='FAILED', count=1008),\n",
              " Row(state='West Bengal', status='COMPLETED', count=3892),\n",
              " Row(state='Punjab', status='FAILED', count=195),\n",
              " Row(state='Haryana', status='FAILED', count=1013),\n",
              " Row(state='Assam', status='COMPLETED', count=3950),\n",
              " Row(state='Madhya Pradesh', status='COMPLETED', count=15937),\n",
              " Row(state='Haryana', status='COMPLETED', count=3884),\n",
              " Row(state='Gujarat', status='FAILED', count=10094),\n",
              " Row(state='Kerala', status='COMPLETED', count=72191),\n",
              " Row(state='West Bengal', status='FAILED', count=1012),\n",
              " Row(state='Punjab', status='COMPLETED', count=833),\n",
              " Row(state='Tamil Nadu', status='COMPLETED', count=80008),\n",
              " Row(state='Kerala', status='FAILED', count=18127),\n",
              " Row(state='Rajasthan', status='FAILED', count=2803)]"
            ]
          },
          "metadata": {
            "tags": []
          },
          "execution_count": 47
        }
      ]
    },
    {
      "cell_type": "code",
      "metadata": {
        "id": "vF6mCkt6myd8",
        "colab_type": "code",
        "colab": {
          "base_uri": "https://localhost:8080/",
          "height": 202
        },
        "outputId": "17865191-d855-47b1-a465-660e3010e53a"
      },
      "source": [
        "parquetFile.createOrReplaceTempView(\"amit321\")\n",
        "myspark.sql(\"select state, status,count(*) from amit321 group by state, status\").show(5)"
      ],
      "execution_count": 49,
      "outputs": [
        {
          "output_type": "stream",
          "text": [
            "+--------------+---------+--------+\n",
            "|         state|   status|count(1)|\n",
            "+--------------+---------+--------+\n",
            "|     Rajasthan|COMPLETED|   11100|\n",
            "|Andhra Pradesh|   FAILED|   16054|\n",
            "|    Tamil Nadu|   FAILED|   19802|\n",
            "|   Maharashtra|   FAILED|  100023|\n",
            "|   Maharashtra|COMPLETED|  399703|\n",
            "+--------------+---------+--------+\n",
            "only showing top 5 rows\n",
            "\n"
          ],
          "name": "stdout"
        }
      ]
    },
    {
      "cell_type": "code",
      "metadata": {
        "id": "-z6_lV4VnzeM",
        "colab_type": "code",
        "colab": {
          "base_uri": "https://localhost:8080/",
          "height": 54
        },
        "outputId": "410bacc7-9ca5-419a-b3e0-253d0810ab65"
      },
      "source": [
        "parquetFile.describe()"
      ],
      "execution_count": null,
      "outputs": [
        {
          "output_type": "execute_result",
          "data": {
            "text/plain": [
              "DataFrame[summary: string, status: string, txn_id: string, fin_nfin: string, proc_code: string, resp_cpde: string, state: string, mob_no: string, trn_date_part: string]"
            ]
          },
          "metadata": {
            "tags": []
          },
          "execution_count": 71
        }
      ]
    },
    {
      "cell_type": "code",
      "metadata": {
        "id": "my8UkPZXnT92",
        "colab_type": "code",
        "colab": {
          "base_uri": "https://localhost:8080/",
          "height": 469
        },
        "outputId": "afb28ab0-3a74-4536-f3fb-33662e3b9918"
      },
      "source": [
        "myspark.sql(\"select state,status,count(*) from amit321 GROUP BY state,status\").show()"
      ],
      "execution_count": null,
      "outputs": [
        {
          "output_type": "stream",
          "text": [
            "+--------------+---------+--------+\n",
            "|         state|   status|count(1)|\n",
            "+--------------+---------+--------+\n",
            "|     Rajasthan|COMPLETED|   11100|\n",
            "|Andhra Pradesh|   FAILED|   16054|\n",
            "|    Tamil Nadu|   FAILED|   19802|\n",
            "|   Maharashtra|   FAILED|  100023|\n",
            "|   Maharashtra|COMPLETED|  399703|\n",
            "|     Karnataka|COMPLETED|   64246|\n",
            "|           Goa|   FAILED|   10122|\n",
            "|Madhya Pradesh|   FAILED|    4026|\n",
            "|     Karnataka|   FAILED|   15836|\n",
            "|Andhra Pradesh|COMPLETED|   63938|\n",
            "|       Gujarat|COMPLETED|   39928|\n",
            "|           Goa|COMPLETED|   40274|\n",
            "|         Assam|   FAILED|    1008|\n",
            "|   West Bengal|COMPLETED|    3892|\n",
            "|        Punjab|   FAILED|     195|\n",
            "|       Haryana|   FAILED|    1013|\n",
            "|         Assam|COMPLETED|    3950|\n",
            "|Madhya Pradesh|COMPLETED|   15937|\n",
            "|       Haryana|COMPLETED|    3884|\n",
            "|       Gujarat|   FAILED|   10094|\n",
            "+--------------+---------+--------+\n",
            "only showing top 20 rows\n",
            "\n"
          ],
          "name": "stdout"
        }
      ]
    },
    {
      "cell_type": "code",
      "metadata": {
        "id": "BCDUTCfwuuEZ",
        "colab_type": "code",
        "colab": {
          "base_uri": "https://localhost:8080/",
          "height": 34
        },
        "outputId": "3f127f8c-9ded-406f-b77b-81acd88638c2"
      },
      "source": [
        "parquetFile.unpersist()"
      ],
      "execution_count": 50,
      "outputs": [
        {
          "output_type": "execute_result",
          "data": {
            "text/plain": [
              "DataFrame[status: string, txn_id: string, trn_date: timestamp, fin_nfin: string, proc_code: string, resp_cpde: string, state: string, mob_no: bigint, trn_date_part: string]"
            ]
          },
          "metadata": {
            "tags": []
          },
          "execution_count": 50
        }
      ]
    },
    {
      "cell_type": "code",
      "metadata": {
        "id": "fBIJluZFvM8L",
        "colab_type": "code",
        "colab": {}
      },
      "source": [
        "myspark.stop()"
      ],
      "execution_count": 51,
      "outputs": []
    },
    {
      "cell_type": "code",
      "metadata": {
        "id": "gznTTTQr0JKG",
        "colab_type": "code",
        "colab": {
          "base_uri": "https://localhost:8080/",
          "height": 387
        },
        "outputId": "143d8f14-a9da-4a60-988b-d3b9f418106a"
      },
      "source": [
        "myspark"
      ],
      "execution_count": 52,
      "outputs": [
        {
          "output_type": "error",
          "ename": "AttributeError",
          "evalue": "ignored",
          "traceback": [
            "\u001b[0;31m---------------------------------------------------------------------------\u001b[0m",
            "\u001b[0;31mAttributeError\u001b[0m                            Traceback (most recent call last)",
            "\u001b[0;32m/usr/local/lib/python3.6/dist-packages/IPython/core/formatters.py\u001b[0m in \u001b[0;36m__call__\u001b[0;34m(self, obj)\u001b[0m\n\u001b[1;32m    336\u001b[0m             \u001b[0mmethod\u001b[0m \u001b[0;34m=\u001b[0m \u001b[0mget_real_method\u001b[0m\u001b[0;34m(\u001b[0m\u001b[0mobj\u001b[0m\u001b[0;34m,\u001b[0m \u001b[0mself\u001b[0m\u001b[0;34m.\u001b[0m\u001b[0mprint_method\u001b[0m\u001b[0;34m)\u001b[0m\u001b[0;34m\u001b[0m\u001b[0;34m\u001b[0m\u001b[0m\n\u001b[1;32m    337\u001b[0m             \u001b[0;32mif\u001b[0m \u001b[0mmethod\u001b[0m \u001b[0;32mis\u001b[0m \u001b[0;32mnot\u001b[0m \u001b[0;32mNone\u001b[0m\u001b[0;34m:\u001b[0m\u001b[0;34m\u001b[0m\u001b[0;34m\u001b[0m\u001b[0m\n\u001b[0;32m--> 338\u001b[0;31m                 \u001b[0;32mreturn\u001b[0m \u001b[0mmethod\u001b[0m\u001b[0;34m(\u001b[0m\u001b[0;34m)\u001b[0m\u001b[0;34m\u001b[0m\u001b[0;34m\u001b[0m\u001b[0m\n\u001b[0m\u001b[1;32m    339\u001b[0m             \u001b[0;32mreturn\u001b[0m \u001b[0;32mNone\u001b[0m\u001b[0;34m\u001b[0m\u001b[0;34m\u001b[0m\u001b[0m\n\u001b[1;32m    340\u001b[0m         \u001b[0;32melse\u001b[0m\u001b[0;34m:\u001b[0m\u001b[0;34m\u001b[0m\u001b[0;34m\u001b[0m\u001b[0m\n",
            "\u001b[0;32m/usr/local/lib/python3.6/dist-packages/pyspark/sql/session.py\u001b[0m in \u001b[0;36m_repr_html_\u001b[0;34m(self)\u001b[0m\n\u001b[1;32m    241\u001b[0m         \"\"\".format(\n\u001b[1;32m    242\u001b[0m             \u001b[0mcatalogImplementation\u001b[0m\u001b[0;34m=\u001b[0m\u001b[0mself\u001b[0m\u001b[0;34m.\u001b[0m\u001b[0mconf\u001b[0m\u001b[0;34m.\u001b[0m\u001b[0mget\u001b[0m\u001b[0;34m(\u001b[0m\u001b[0;34m\"spark.sql.catalogImplementation\"\u001b[0m\u001b[0;34m)\u001b[0m\u001b[0;34m,\u001b[0m\u001b[0;34m\u001b[0m\u001b[0;34m\u001b[0m\u001b[0m\n\u001b[0;32m--> 243\u001b[0;31m             \u001b[0msc_HTML\u001b[0m\u001b[0;34m=\u001b[0m\u001b[0mself\u001b[0m\u001b[0;34m.\u001b[0m\u001b[0msparkContext\u001b[0m\u001b[0;34m.\u001b[0m\u001b[0m_repr_html_\u001b[0m\u001b[0;34m(\u001b[0m\u001b[0;34m)\u001b[0m\u001b[0;34m\u001b[0m\u001b[0;34m\u001b[0m\u001b[0m\n\u001b[0m\u001b[1;32m    244\u001b[0m         )\n\u001b[1;32m    245\u001b[0m \u001b[0;34m\u001b[0m\u001b[0m\n",
            "\u001b[0;32m/usr/local/lib/python3.6/dist-packages/pyspark/context.py\u001b[0m in \u001b[0;36m_repr_html_\u001b[0;34m(self)\u001b[0m\n\u001b[1;32m    297\u001b[0m         \u001b[0;34m<\u001b[0m\u001b[0;34m/\u001b[0m\u001b[0mdiv\u001b[0m\u001b[0;34m>\u001b[0m\u001b[0;34m\u001b[0m\u001b[0;34m\u001b[0m\u001b[0m\n\u001b[1;32m    298\u001b[0m         \"\"\".format(\n\u001b[0;32m--> 299\u001b[0;31m             \u001b[0msc\u001b[0m\u001b[0;34m=\u001b[0m\u001b[0mself\u001b[0m\u001b[0;34m\u001b[0m\u001b[0;34m\u001b[0m\u001b[0m\n\u001b[0m\u001b[1;32m    300\u001b[0m         )\n\u001b[1;32m    301\u001b[0m \u001b[0;34m\u001b[0m\u001b[0m\n",
            "\u001b[0;32m/usr/local/lib/python3.6/dist-packages/pyspark/context.py\u001b[0m in \u001b[0;36muiWebUrl\u001b[0;34m(self)\u001b[0m\n\u001b[1;32m    409\u001b[0m     \u001b[0;32mdef\u001b[0m \u001b[0muiWebUrl\u001b[0m\u001b[0;34m(\u001b[0m\u001b[0mself\u001b[0m\u001b[0;34m)\u001b[0m\u001b[0;34m:\u001b[0m\u001b[0;34m\u001b[0m\u001b[0;34m\u001b[0m\u001b[0m\n\u001b[1;32m    410\u001b[0m         \u001b[0;34m\"\"\"Return the URL of the SparkUI instance started by this SparkContext\"\"\"\u001b[0m\u001b[0;34m\u001b[0m\u001b[0;34m\u001b[0m\u001b[0m\n\u001b[0;32m--> 411\u001b[0;31m         \u001b[0;32mreturn\u001b[0m \u001b[0mself\u001b[0m\u001b[0;34m.\u001b[0m\u001b[0m_jsc\u001b[0m\u001b[0;34m.\u001b[0m\u001b[0msc\u001b[0m\u001b[0;34m(\u001b[0m\u001b[0;34m)\u001b[0m\u001b[0;34m.\u001b[0m\u001b[0muiWebUrl\u001b[0m\u001b[0;34m(\u001b[0m\u001b[0;34m)\u001b[0m\u001b[0;34m.\u001b[0m\u001b[0mget\u001b[0m\u001b[0;34m(\u001b[0m\u001b[0;34m)\u001b[0m\u001b[0;34m\u001b[0m\u001b[0;34m\u001b[0m\u001b[0m\n\u001b[0m\u001b[1;32m    412\u001b[0m \u001b[0;34m\u001b[0m\u001b[0m\n\u001b[1;32m    413\u001b[0m     \u001b[0;34m@\u001b[0m\u001b[0mproperty\u001b[0m\u001b[0;34m\u001b[0m\u001b[0;34m\u001b[0m\u001b[0m\n",
            "\u001b[0;31mAttributeError\u001b[0m: 'NoneType' object has no attribute 'sc'"
          ]
        },
        {
          "output_type": "execute_result",
          "data": {
            "text/plain": [
              "<pyspark.sql.session.SparkSession at 0x7f8fa4097d30>"
            ]
          },
          "metadata": {
            "tags": []
          },
          "execution_count": 52
        }
      ]
    },
    {
      "cell_type": "code",
      "metadata": {
        "id": "FNFIS2htqW_B",
        "colab_type": "code",
        "colab": {}
      },
      "source": [
        ""
      ],
      "execution_count": null,
      "outputs": []
    }
  ]
}